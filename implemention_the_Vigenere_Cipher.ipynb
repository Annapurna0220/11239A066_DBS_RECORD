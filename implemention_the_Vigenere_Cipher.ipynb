{
  "nbformat": 4,
  "nbformat_minor": 0,
  "metadata": {
    "colab": {
      "provenance": [],
      "authorship_tag": "ABX9TyOIU1alP9Zg7QbDR/Xsi1EF",
      "include_colab_link": true
    },
    "kernelspec": {
      "name": "python3",
      "display_name": "Python 3"
    },
    "language_info": {
      "name": "python"
    }
  },
  "cells": [
    {
      "cell_type": "markdown",
      "metadata": {
        "id": "view-in-github",
        "colab_type": "text"
      },
      "source": [
        "<a href=\"https://colab.research.google.com/github/Annapurna0220/11239A066_DBS_RECORD/blob/main/implemention_the_Vigenere_Cipher.ipynb\" target=\"_parent\"><img src=\"https://colab.research.google.com/assets/colab-badge.svg\" alt=\"Open In Colab\"/></a>"
      ]
    },
    {
      "cell_type": "code",
      "source": [
        "def vigenere(text, key, mode):\n",
        "    res = \"\"\n",
        "    for i, ch in enumerate(text.upper()):\n",
        "        if ch.isalpha():\n",
        "            k = ord(key[i % len(key)].upper()) - 65\n",
        "            t = ord(ch) - 65\n",
        "            res += chr(65 + (t + k) % 26) if mode == 'e' else chr(65 + (t - k) % 26)\n",
        "    return res\n",
        "\n",
        "while True:\n",
        "    ch = input(\"\\n1.Encrypt  2.Decrypt  3.Exit\\nEnter choice: \")\n",
        "    if ch == '3': break\n",
        "    txt = input(\"Enter text: \")\n",
        "    key = input(\"Enter key: \")\n",
        "    if ch == '1':\n",
        "        print(\"Cipher Text:\", vigenere(txt, key, 'e'))\n",
        "    elif ch == '2':\n",
        "        print(\"Plain Text:\", vigenere(txt, key, 'd'))\n"
      ],
      "metadata": {
        "colab": {
          "base_uri": "https://localhost:8080/"
        },
        "id": "GXuFnOawtvZh",
        "outputId": "df1a517d-c04a-46ef-9fcd-f67deb29ff6b"
      },
      "execution_count": null,
      "outputs": [
        {
          "output_type": "stream",
          "name": "stdout",
          "text": [
            "\n",
            "1.Encrypt  2.Decrypt  3.Exit\n",
            "Enter choice: 2\n",
            "Enter text: mystring\n",
            "Enter key: hai\n",
            "Plain Text: FYKMRAGG\n"
          ]
        }
      ]
    },
    {
      "cell_type": "markdown",
      "source": [],
      "metadata": {
        "id": "IRMmsJ-esb_A"
      }
    }
  ]
}