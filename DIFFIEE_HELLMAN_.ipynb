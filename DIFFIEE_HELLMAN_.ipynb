{
  "nbformat": 4,
  "nbformat_minor": 0,
  "metadata": {
    "colab": {
      "provenance": [],
      "authorship_tag": "ABX9TyMBOV+ykPJVh8ptYnKWeoxU",
      "include_colab_link": true
    },
    "kernelspec": {
      "name": "python3",
      "display_name": "Python 3"
    },
    "language_info": {
      "name": "python"
    }
  },
  "cells": [
    {
      "cell_type": "markdown",
      "metadata": {
        "id": "view-in-github",
        "colab_type": "text"
      },
      "source": [
        "<a href=\"https://colab.research.google.com/github/Annapurna0220/11239A066_DBS_RECORD/blob/main/DIFFIEE_HELLMAN_.ipynb\" target=\"_parent\"><img src=\"https://colab.research.google.com/assets/colab-badge.svg\" alt=\"Open In Colab\"/></a>"
      ]
    },
    {
      "cell_type": "code",
      "source": [
        "import math\n",
        "\n",
        "def prime(n):\n",
        "    for i in range(2, int(math.sqrt(n)) + 1):\n",
        "        if n % i == 0:\n",
        "            return False\n",
        "    return True\n",
        "\n",
        "def mod_inv(e, phi):\n",
        "    for d in range(1, phi):\n",
        "        if (d*e) % phi == 1:\n",
        "            return d\n",
        "\n",
        "p = int(input(\"ENTER FIRST PRIME NUMBER\\n\"))\n",
        "q = int(input(\"ENTER ANOTHER PRIME NUMBER\\n\"))\n",
        "if not prime(p) or not prime(q) or p == q:\n",
        "    print(\"WRONG INPUT\")\n",
        "    exit()\n",
        "\n",
        "msg = input(\"ENTER MESSAGE\\n\")\n",
        "n = p*q\n",
        "phi = (p-1)*(q-1)\n",
        "\n",
        "e = next(x for x in range(2, phi) if math.gcd(x, phi) == 1)\n",
        "d = mod_inv(e, phi)\n",
        "\n",
        "print(\"\\nPOSSIBLE VALUES OF e AND d ARE\")\n",
        "print(e, \"\\t\", d)\n",
        "\n",
        "encrypted = [pow(ord(c), e, n) for c in msg]\n",
        "print(\"\\nTHE ENCRYPTED MESSAGE IS\")\n",
        "print(''.join(chr(x) for x in encrypted))\n",
        "\n",
        "decrypted = [pow(c, d, n) for c in encrypted]\n",
        "print(\"\\nTHE DECRYPTED MESSAGE IS\")\n",
        "print(''.join(chr(x) for x in decrypted))\n"
      ],
      "metadata": {
        "colab": {
          "base_uri": "https://localhost:8080/"
        },
        "id": "1lZjmp0TvX3m",
        "outputId": "b6697175-9eaf-489f-b485-dff3734e3a39"
      },
      "execution_count": 11,
      "outputs": [
        {
          "output_type": "stream",
          "name": "stdout",
          "text": [
            "ENTER FIRST PRIME NUMBER\n",
            "5\n",
            "ENTER ANOTHER PRIME NUMBER\n",
            "3\n",
            "ENTER MESSAGE\n",
            "elooo\n",
            "\n",
            "POSSIBLE VALUES OF e AND d ARE\n",
            "3 \t 3\n",
            "\n",
            "THE ENCRYPTED MESSAGE IS\n",
            "\u000b\f\u0006\u0006\u0006\n",
            "\n",
            "THE DECRYPTED MESSAGE IS\n",
            "\u000b\u0003\u0006\u0006\u0006\n"
          ]
        }
      ]
    },
    {
      "cell_type": "code",
      "source": [
        "def power(a, b, mod):\n",
        "    if b == 0:\n",
        "        return 1\n",
        "    half = power(a, b // 2, mod)\n",
        "    half = (half * half) % mod\n",
        "    return half if b % 2 == 0 else (half * a) % mod\n",
        "\n",
        "def main():\n",
        "    n = int(input(\"Enter prime n: \"))\n",
        "    g = int(input(\"Enter generator g: \"))\n",
        "    x = int(input(\"Enter private key x (person 1): \"))\n",
        "    y = int(input(\"Enter private key y (person 2): \"))\n",
        "\n",
        "    A = power(g, x, n)\n",
        "    B = power(g, y, n)\n",
        "\n",
        "    key1 = power(B, x, n)\n",
        "    key2 = power(A, y, n)\n",
        "\n",
        "    print(f\"Key for first person: {key1}\")\n",
        "    print(f\"Key for second person: {key2}\")\n",
        "\n",
        "if __name__ == \"__main__\":\n",
        "    main()\n"
      ],
      "metadata": {
        "colab": {
          "base_uri": "https://localhost:8080/"
        },
        "id": "tA9N1HqvyGQ4",
        "outputId": "7c47df2d-2a40-4a4a-d94a-b875f54223c9"
      },
      "execution_count": 12,
      "outputs": [
        {
          "output_type": "stream",
          "name": "stdout",
          "text": [
            "Enter prime n: 7\n",
            "Enter generator g: 9\n",
            "Enter private key x (person 1): 6\n",
            "Enter private key y (person 2): 15\n",
            "Key for first person: 1\n",
            "Key for second person: 1\n"
          ]
        }
      ]
    }
  ]
}