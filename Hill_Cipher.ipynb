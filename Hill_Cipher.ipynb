{
  "nbformat": 4,
  "nbformat_minor": 0,
  "metadata": {
    "colab": {
      "provenance": [],
      "authorship_tag": "ABX9TyOgZRWj+21qudlLJHhmVCw9",
      "include_colab_link": true
    },
    "kernelspec": {
      "name": "python3",
      "display_name": "Python 3"
    },
    "language_info": {
      "name": "python"
    }
  },
  "cells": [
    {
      "cell_type": "markdown",
      "metadata": {
        "id": "view-in-github",
        "colab_type": "text"
      },
      "source": [
        "<a href=\"https://colab.research.google.com/github/Annapurna0220/11239A066_DBS_RECORD/blob/main/Hill_Cipher.ipynb\" target=\"_parent\"><img src=\"https://colab.research.google.com/assets/colab-badge.svg\" alt=\"Open In Colab\"/></a>"
      ]
    },
    {
      "cell_type": "code",
      "source": [
        "import numpy as np\n",
        "\n",
        "def main():\n",
        "    a = np.array([[6,24,1],[13,16,10],[20,17,15]], dtype=np.uint32)\n",
        "    b = np.array([[8,5,10],[21,8,21],[21,12,8]], dtype=np.uint32)\n",
        "    msg = input(\"Enter plain text: \").upper()\n",
        "    c = [ord(ch)-65 for ch in msg]\n",
        "    for val in c: print(val, end=\" \")\n",
        "\n",
        "    d = [(a[i] @ c[:3]) % 26 for i in range(3)]\n",
        "    print(\"\\nEncrypted Cipher Text :\", \" \".join(chr(x+65) for x in d))\n",
        "\n",
        "    dec = [(b[i] @ d) % 26 for i in range(3)]\n",
        "    print(\"Decrypted Cipher Text :\", \" \".join(chr(x+65) for x in dec))\n",
        "\n",
        "if __name__ == \"__main__\":\n",
        "    main()\n"
      ],
      "metadata": {
        "colab": {
          "base_uri": "https://localhost:8080/"
        },
        "id": "1XprQcc5sVJR",
        "outputId": "7a0941ad-00cc-4703-ebf8-d67ef61149dd"
      },
      "execution_count": 5,
      "outputs": [
        {
          "output_type": "stream",
          "name": "stdout",
          "text": [
            "Enter plain text: ANNAPURNA\n",
            "0 13 13 0 15 20 17 13 0 \n",
            "Encrypted Cipher Text : N A A\n",
            "Decrypted Cipher Text : A N N\n"
          ]
        }
      ]
    },
    {
      "cell_type": "markdown",
      "source": [],
      "metadata": {
        "id": "IRMmsJ-esb_A"
      }
    }
  ]
}