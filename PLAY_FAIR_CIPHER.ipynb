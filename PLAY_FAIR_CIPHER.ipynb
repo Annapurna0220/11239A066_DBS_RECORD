{
  "nbformat": 4,
  "nbformat_minor": 0,
  "metadata": {
    "colab": {
      "provenance": [],
      "authorship_tag": "ABX9TyO0LUSM4z20kKrbl6vFTmuA",
      "include_colab_link": true
    },
    "kernelspec": {
      "name": "python3",
      "display_name": "Python 3"
    },
    "language_info": {
      "name": "python"
    }
  },
  "cells": [
    {
      "cell_type": "markdown",
      "metadata": {
        "id": "view-in-github",
        "colab_type": "text"
      },
      "source": [
        "<a href=\"https://colab.research.google.com/github/Annapurna0220/11239A066_DBS_RECORD/blob/main/PLAY_FAIR_CIPHER.ipynb\" target=\"_parent\"><img src=\"https://colab.research.google.com/assets/colab-badge.svg\" alt=\"Open In Colab\"/></a>"
      ]
    },
    {
      "cell_type": "code",
      "execution_count": 3,
      "metadata": {
        "colab": {
          "base_uri": "https://localhost:8080/"
        },
        "id": "0Nj2XDHxpqp4",
        "outputId": "04c8741c-6986-4038-b2cc-9352f1a904c3"
      },
      "outputs": [
        {
          "output_type": "stream",
          "name": "stdout",
          "text": [
            "Enter key: 4\n",
            "Enter the plain text: playfair\n",
            "\n",
            "Key Matrix:\n",
            "A B C D E\n",
            "F G H I K\n",
            "L M N O P\n",
            "Q R S T U\n",
            "V W X Y Z\n",
            "\n",
            "Entered text: playfair\n",
            "Cipher Text: LM\n",
            "DV\n",
            "LF\n",
            "GT\n",
            "\n",
            "Process finished with exit code 0\n"
          ]
        }
      ],
      "source": [
        "import string\n",
        "\n",
        "def key_matrix(k):\n",
        "    k = k.upper().replace('J', 'I')\n",
        "    s = []\n",
        "    for c in k + string.ascii_uppercase:\n",
        "        if c not in s and c in string.ascii_uppercase and c != 'J':\n",
        "            s.append(c)\n",
        "    return [s[i:i+5] for i in range(0, 25, 5)]\n",
        "\n",
        "def pos(ch, k):\n",
        "    for i in range(5):\n",
        "        for j in range(5):\n",
        "            if k[i][j] == ch: return i, j\n",
        "\n",
        "def enc(a, b, k):\n",
        "    x1, y1 = pos(a, k); x2, y2 = pos(b, k)\n",
        "    if x1 == x2: return k[x1][(y1+1)%5] + k[x2][(y2+1)%5]\n",
        "    if y1 == y2: return k[(x1+1)%5][y1] + k[(x2+1)%5][y2]\n",
        "    return k[x1][y2] + k[x2][y1]\n",
        "\n",
        "def fmt(t):\n",
        "    t = t.upper().replace('J', 'I').replace(' ', '')\n",
        "    r = []; i = 0\n",
        "    while i < len(t):\n",
        "        a = t[i]; b = t[i+1] if i+1 < len(t) else 'X'\n",
        "        if a == b: b = 'X'; i += 1\n",
        "        else: i += 2\n",
        "        r.append(a+b)\n",
        "    return r\n",
        "\n",
        "k = input(\"Enter key: \")\n",
        "t = input(\"Enter the plain text: \")\n",
        "m = key_matrix(k)\n",
        "print(\"\\nKey Matrix:\")\n",
        "for r in m: print(\" \".join(r))\n",
        "print(f\"\\nEntered text: {t}\\nCipher Text:\", end=\" \")\n",
        "for p in fmt(t):\n",
        "    print(enc(p[0], p[1], m))\n",
        "print(\"\\nProcess finished with exit code 0\")\n"
      ]
    }
  ]
}