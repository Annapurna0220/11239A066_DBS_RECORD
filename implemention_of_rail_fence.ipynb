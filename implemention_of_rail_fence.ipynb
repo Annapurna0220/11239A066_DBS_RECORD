{
  "nbformat": 4,
  "nbformat_minor": 0,
  "metadata": {
    "colab": {
      "provenance": [],
      "authorship_tag": "ABX9TyNtuMInQq2kzyvJcIyPGF2r",
      "include_colab_link": true
    },
    "kernelspec": {
      "name": "python3",
      "display_name": "Python 3"
    },
    "language_info": {
      "name": "python"
    }
  },
  "cells": [
    {
      "cell_type": "markdown",
      "metadata": {
        "id": "view-in-github",
        "colab_type": "text"
      },
      "source": [
        "<a href=\"https://colab.research.google.com/github/Annapurna0220/11239A066_DBS_RECORD/blob/main/implemention_of_rail_fence.ipynb\" target=\"_parent\"><img src=\"https://colab.research.google.com/assets/colab-badge.svg\" alt=\"Open In Colab\"/></a>"
      ]
    },
    {
      "cell_type": "markdown",
      "source": [],
      "metadata": {
        "id": "IRMmsJ-esb_A"
      }
    },
    {
      "cell_type": "code",
      "source": [
        "def rail_fence():\n",
        "    a = input(\"Enter text: \")\n",
        "    c = a[::2] + a[1::2]\n",
        "    print(\"Cipher text:\", c)\n",
        "    k = (len(a)+1)//2\n",
        "    d = ''.join(c[i//2] if i%2==0 else c[k+i//2] for i in range(len(a)))\n",
        "    print(\"Decrypted text:\", d)\n",
        "\n",
        "rail_fence()\n"
      ],
      "metadata": {
        "colab": {
          "base_uri": "https://localhost:8080/"
        },
        "id": "c3xYJMP3vX7J",
        "outputId": "faa46814-17bb-4c61-a37c-ee8f3e424828"
      },
      "execution_count": 8,
      "outputs": [
        {
          "output_type": "stream",
          "name": "stdout",
          "text": [
            "Enter text: hello\n",
            "Cipher text: hloel\n",
            "Decrypted text: hello\n"
          ]
        }
      ]
    },
    {
      "cell_type": "code",
      "source": [],
      "metadata": {
        "id": "1lZjmp0TvX3m"
      },
      "execution_count": null,
      "outputs": []
    }
  ]
}