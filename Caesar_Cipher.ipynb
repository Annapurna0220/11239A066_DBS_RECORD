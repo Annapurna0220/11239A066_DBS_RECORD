{
  "nbformat": 4,
  "nbformat_minor": 0,
  "metadata": {
    "colab": {
      "provenance": [],
      "authorship_tag": "ABX9TyM++q96ImhnUWqTm0jLdOHE",
      "include_colab_link": true
    },
    "kernelspec": {
      "name": "python3",
      "display_name": "Python 3"
    },
    "language_info": {
      "name": "python"
    }
  },
  "cells": [
    {
      "cell_type": "markdown",
      "metadata": {
        "id": "view-in-github",
        "colab_type": "text"
      },
      "source": [
        "<a href=\"https://colab.research.google.com/github/Annapurna0220/11239A066_DBS_RECORD/blob/main/Caesar_Cipher.ipynb\" target=\"_parent\"><img src=\"https://colab.research.google.com/assets/colab-badge.svg\" alt=\"Open In Colab\"/></a>"
      ]
    },
    {
      "cell_type": "code",
      "execution_count": 1,
      "metadata": {
        "colab": {
          "base_uri": "https://localhost:8080/"
        },
        "id": "vmTBsK1VjveY",
        "outputId": "e8d36da1-1602-47be-b834-ccec7226a76d"
      },
      "outputs": [
        {
          "output_type": "stream",
          "name": "stdout",
          "text": [
            "Enter text: DATA BASE\n",
            "Enter key: 3\n",
            "\n",
            "Encrypted: GDWD EDVH\n",
            "Decrypted: DATA BASE\n"
          ]
        }
      ],
      "source": [
        "def caesar_cipher():\n",
        "    text = input(\"Enter text: \")\n",
        "    key = int(input(\"Enter key: \"))\n",
        "\n",
        "    # Encryption\n",
        "    cipher = ''.join(\n",
        "        chr((ord(c) - 65 + key) % 26 + 65) if c.isupper() else\n",
        "        chr((ord(c) - 97 + key) % 26 + 97) if c.islower() else c\n",
        "        for c in text\n",
        "    )\n",
        "    print(f\"\\nEncrypted: {cipher}\")\n",
        "\n",
        "    # Decryption\n",
        "    decrypted = ''.join(\n",
        "        chr((ord(c) - 65 - key) % 26 + 65) if c.isupper() else\n",
        "        chr((ord(c) - 97 - key) % 26 + 97) if c.islower() else c\n",
        "        for c in cipher\n",
        "    )\n",
        "    print(f\"Decrypted: {decrypted}\")\n",
        "\n",
        "if __name__ == \"__main__\":\n",
        "    caesar_cipher()\n"
      ]
    },
    {
      "cell_type": "code",
      "source": [],
      "metadata": {
        "id": "VPuHW4LeoZ0O"
      },
      "execution_count": null,
      "outputs": []
    }
  ]
}