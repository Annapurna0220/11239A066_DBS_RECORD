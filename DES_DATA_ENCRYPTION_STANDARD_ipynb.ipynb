{
  "nbformat": 4,
  "nbformat_minor": 0,
  "metadata": {
    "colab": {
      "provenance": [],
      "authorship_tag": "ABX9TyMheys9m5v9upoTtBAUUkgQ",
      "include_colab_link": true
    },
    "kernelspec": {
      "name": "python3",
      "display_name": "Python 3"
    },
    "language_info": {
      "name": "python"
    }
  },
  "cells": [
    {
      "cell_type": "markdown",
      "metadata": {
        "id": "view-in-github",
        "colab_type": "text"
      },
      "source": [
        "<a href=\"https://colab.research.google.com/github/Annapurna0220/11239A066_DBS_RECORD/blob/main/DES_DATA_ENCRYPTION_STANDARD_ipynb.ipynb\" target=\"_parent\"><img src=\"https://colab.research.google.com/assets/colab-badge.svg\" alt=\"Open In Colab\"/></a>"
      ]
    },
    {
      "cell_type": "code",
      "source": [
        "!pip install pycryptodome\n",
        "\n",
        "from Crypto.Cipher import DES\n",
        "from Crypto.Util.Padding import pad, unpad\n",
        "from Crypto.Random import get_random_bytes\n",
        "import binascii\n",
        "\n",
        "key = get_random_bytes(8)\n",
        "print(\"DES Key (hex):\", binascii.hexlify(key).decode())\n",
        "\n",
        "msg = input(\"Enter message: \").encode()\n",
        "cipher = DES.new(key, DES.MODE_CBC)\n",
        "enc = cipher.iv + cipher.encrypt(pad(msg, DES.block_size))\n",
        "print(\"Encrypted (hex):\", binascii.hexlify(enc).decode())\n",
        "\n",
        "iv, data = enc[:8], enc[8:]\n",
        "dec = unpad(DES.new(key, DES.MODE_CBC, iv).decrypt(data), DES.block_size)\n",
        "print(\"Decrypted:\", dec.decode())"
      ],
      "metadata": {
        "colab": {
          "base_uri": "https://localhost:8080/"
        },
        "id": "rY3yB0TKvmgI",
        "outputId": "cc2078db-7034-4b4e-f4f5-545c1abf39e2"
      },
      "execution_count": 10,
      "outputs": [
        {
          "output_type": "stream",
          "name": "stdout",
          "text": [
            "Collecting pycryptodome\n",
            "  Downloading pycryptodome-3.23.0-cp37-abi3-manylinux_2_17_x86_64.manylinux2014_x86_64.whl.metadata (3.4 kB)\n",
            "Downloading pycryptodome-3.23.0-cp37-abi3-manylinux_2_17_x86_64.manylinux2014_x86_64.whl (2.3 MB)\n",
            "\u001b[?25l   \u001b[90m━━━━━━━━━━━━━━━━━━━━━━━━━━━━━━━━━━━━━━━━\u001b[0m \u001b[32m0.0/2.3 MB\u001b[0m \u001b[31m?\u001b[0m eta \u001b[36m-:--:--\u001b[0m\r\u001b[2K   \u001b[91m━━━━━━━━━━━━━━━━━━━━━━━━━━━━━━━━━━━━━━━\u001b[0m\u001b[91m╸\u001b[0m \u001b[32m2.3/2.3 MB\u001b[0m \u001b[31m78.5 MB/s\u001b[0m eta \u001b[36m0:00:01\u001b[0m\r\u001b[2K   \u001b[90m━━━━━━━━━━━━━━━━━━━━━━━━━━━━━━━━━━━━━━━━\u001b[0m \u001b[32m2.3/2.3 MB\u001b[0m \u001b[31m46.6 MB/s\u001b[0m eta \u001b[36m0:00:00\u001b[0m\n",
            "\u001b[?25hInstalling collected packages: pycryptodome\n",
            "Successfully installed pycryptodome-3.23.0\n",
            "DES Key (hex): 9f6854e3d12a8f2a\n",
            "Enter message: hello\n",
            "Encrypted (hex): 87f36a00c3d0aa0f884d9b3e8ba2f631\n",
            "Decrypted: hello\n"
          ]
        }
      ]
    },
    {
      "cell_type": "code",
      "source": [],
      "metadata": {
        "id": "1lZjmp0TvX3m"
      },
      "execution_count": null,
      "outputs": []
    }
  ]
}